{
 "cells": [
  {
   "cell_type": "markdown",
   "id": "331e37cd-142b-41da-8f52-c126e2c82534",
   "metadata": {},
   "source": [
    "# Data Science Tools and Ecosystem"
   ]
  },
  {
   "cell_type": "code",
   "execution_count": 2,
   "id": "23a5a3e9-7ee0-43b9-8976-c3322ec922bc",
   "metadata": {},
   "outputs": [
    {
     "data": {
      "text/plain": [
       "'In this notebook, Data Science Tool and Ecosystem are summarized.'"
      ]
     },
     "execution_count": 2,
     "metadata": {},
     "output_type": "execute_result"
    }
   ],
   "source": [
    "\"In this notebook, Data Science Tool and Ecosystem are summarized.\""
   ]
  },
  {
   "cell_type": "markdown",
   "id": "6aa12ad5-04ea-49db-94bb-877de66b4973",
   "metadata": {},
   "source": [
    "\"Some of the populat languages that Data Scientists use are:\n",
    "1. Phython\n",
    "2. R\n",
    "3. Julia\""
   ]
  },
  {
   "cell_type": "markdown",
   "id": "1ca75a94-fe98-4597-b0e6-fd143121061e",
   "metadata": {},
   "source": [
    "\"Some of the commonly used libraries used by Data Scientists include:\n",
    "1. Tensorflow\n",
    "2. NumPy\n",
    "3. Pandas\""
   ]
  },
  {
   "cell_type": "markdown",
   "id": "ba3de7c7-716b-42dd-be83-eafc82614c76",
   "metadata": {},
   "source": [
    "# Data Science Tools"
   ]
  },
  {
   "cell_type": "markdown",
   "id": "00f36e09-6b38-41f1-b455-659b87221355",
   "metadata": {},
   "source": [
    "| Number | Open Source Tools |\n",
    "|---------|------------------|\n",
    "| 1 | Apache Spark |\n",
    "| 2 | Jupyter Notebook |\n",
    "| 3 | TensorFlow |"
   ]
  },
  {
   "cell_type": "markdown",
   "id": "6c274779-7878-4e44-a2e7-e56532a5aa97",
   "metadata": {},
   "source": [
    "### Below are a few examples of evaluating arithmetic expressions in Python"
   ]
  },
  {
   "cell_type": "code",
   "execution_count": 5,
   "id": "ba8f2004-e508-47da-a7b3-8fbac395438b",
   "metadata": {},
   "outputs": [
    {
     "data": {
      "text/plain": [
       "17"
      ]
     },
     "execution_count": 5,
     "metadata": {},
     "output_type": "execute_result"
    }
   ],
   "source": [
    "(3*4)+5"
   ]
  },
  {
   "cell_type": "code",
   "execution_count": 6,
   "id": "75d828ba-1d1e-468a-aeda-9b2af1c34200",
   "metadata": {},
   "outputs": [
    {
     "data": {
      "text/plain": [
       "3.3333333333333335"
      ]
     },
     "execution_count": 6,
     "metadata": {},
     "output_type": "execute_result"
    }
   ],
   "source": [
    "# This will convert 200 minutes to hours by dividing by 60\n",
    "200/60"
   ]
  },
  {
   "cell_type": "markdown",
   "id": "8758aeb9-b1da-412e-8180-a4fef706b55e",
   "metadata": {},
   "source": [
    "**Objectives**\n",
    "- Python\n",
    "- R\n",
    "- Julia"
   ]
  },
  {
   "cell_type": "markdown",
   "id": "469b510e-0613-4a73-ab50-bfe5f2b5f31b",
   "metadata": {},
   "source": [
    "## Author\n",
    "Vishal Dharmani"
   ]
  },
  {
   "cell_type": "code",
   "execution_count": null,
   "id": "462391c4-5692-4822-8ce5-9a6793239d92",
   "metadata": {},
   "outputs": [],
   "source": []
  }
 ],
 "metadata": {
  "kernelspec": {
   "display_name": "Python 3 (ipykernel)",
   "language": "python",
   "name": "python3"
  },
  "language_info": {
   "codemirror_mode": {
    "name": "ipython",
    "version": 3
   },
   "file_extension": ".py",
   "mimetype": "text/x-python",
   "name": "python",
   "nbconvert_exporter": "python",
   "pygments_lexer": "ipython3",
   "version": "3.11.9"
  }
 },
 "nbformat": 4,
 "nbformat_minor": 5
}
